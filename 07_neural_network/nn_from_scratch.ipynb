{
 "cells": [
  {
   "cell_type": "markdown",
   "metadata": {},
   "source": [
    "# Neural Network from Scratch"
   ]
  },
  {
   "cell_type": "markdown",
   "metadata": {},
   "source": [
    "I will implement Neural Network from scratch by just using Python"
   ]
  },
  {
   "cell_type": "code",
   "execution_count": 44,
   "metadata": {},
   "outputs": [
    {
     "data": {
      "text/html": [
       "<div>\n",
       "<style scoped>\n",
       "    .dataframe tbody tr th:only-of-type {\n",
       "        vertical-align: middle;\n",
       "    }\n",
       "\n",
       "    .dataframe tbody tr th {\n",
       "        vertical-align: top;\n",
       "    }\n",
       "\n",
       "    .dataframe thead th {\n",
       "        text-align: right;\n",
       "    }\n",
       "</style>\n",
       "<table border=\"1\" class=\"dataframe\">\n",
       "  <thead>\n",
       "    <tr style=\"text-align: right;\">\n",
       "      <th></th>\n",
       "      <th>age</th>\n",
       "      <th>affordibility</th>\n",
       "      <th>bought_insurance</th>\n",
       "    </tr>\n",
       "  </thead>\n",
       "  <tbody>\n",
       "    <tr>\n",
       "      <th>0</th>\n",
       "      <td>22</td>\n",
       "      <td>1</td>\n",
       "      <td>0</td>\n",
       "    </tr>\n",
       "    <tr>\n",
       "      <th>1</th>\n",
       "      <td>25</td>\n",
       "      <td>0</td>\n",
       "      <td>0</td>\n",
       "    </tr>\n",
       "    <tr>\n",
       "      <th>2</th>\n",
       "      <td>47</td>\n",
       "      <td>1</td>\n",
       "      <td>1</td>\n",
       "    </tr>\n",
       "    <tr>\n",
       "      <th>3</th>\n",
       "      <td>52</td>\n",
       "      <td>0</td>\n",
       "      <td>0</td>\n",
       "    </tr>\n",
       "    <tr>\n",
       "      <th>4</th>\n",
       "      <td>46</td>\n",
       "      <td>1</td>\n",
       "      <td>1</td>\n",
       "    </tr>\n",
       "  </tbody>\n",
       "</table>\n",
       "</div>"
      ],
      "text/plain": [
       "   age  affordibility  bought_insurance\n",
       "0   22              1                 0\n",
       "1   25              0                 0\n",
       "2   47              1                 1\n",
       "3   52              0                 0\n",
       "4   46              1                 1"
      ]
     },
     "execution_count": 44,
     "metadata": {},
     "output_type": "execute_result"
    }
   ],
   "source": [
    "import pandas as pd\n",
    "\n",
    "df = pd.read_csv('insurance_data.csv')\n",
    "df.head()"
   ]
  },
  {
   "cell_type": "code",
   "execution_count": 45,
   "metadata": {},
   "outputs": [],
   "source": [
    "X = df[['age', 'affordibility']]\n",
    "y = df['bought_insurance']"
   ]
  },
  {
   "cell_type": "code",
   "execution_count": 46,
   "metadata": {},
   "outputs": [],
   "source": [
    "# split the data\n",
    "from sklearn.model_selection import train_test_split\n",
    "X_train, X_test, y_train, y_test = train_test_split(X, y, test_size=0.2)"
   ]
  },
  {
   "cell_type": "code",
   "execution_count": 47,
   "metadata": {},
   "outputs": [],
   "source": [
    "# data preprocessing\n",
    "X_train_scaled = X_train / 100\n",
    "X_test_scaled = X_test / 100"
   ]
  },
  {
   "cell_type": "code",
   "execution_count": 48,
   "metadata": {},
   "outputs": [],
   "source": [
    "import numpy as np\n",
    "\n",
    "def sigmoid_np(X):\n",
    "    return 1 / (1 + np.exp(-X))"
   ]
  },
  {
   "cell_type": "code",
   "execution_count": 49,
   "metadata": {},
   "outputs": [],
   "source": [
    "def log_loss(y_true, y_predicted):\n",
    "    epsilon = 1e-15\n",
    "    y_predicted_new = [max(i,epsilon) for i in y_predicted]\n",
    "    y_predicted_new = [min(i,1-epsilon) for i in y_predicted_new]\n",
    "    y_predicted_new = np.array(y_predicted_new)\n",
    "    return -np.mean(y_true*np.log(y_predicted_new)+(1-y_true)*np.log(1-y_predicted_new))"
   ]
  },
  {
   "cell_type": "code",
   "execution_count": 50,
   "metadata": {},
   "outputs": [],
   "source": [
    "class myNN:\n",
    "    def __init__(self):\n",
    "        self.w1 = 1\n",
    "        self.w2 = 1\n",
    "        self.b = 0\n",
    "\n",
    "    def fit(self, X, y, epochs, loss_threshold):\n",
    "        self.w1, self.w2, self.b = self.gradient_descent(X['age'], X['affordibility'], y, epochs, loss_threshold)\n",
    "\n",
    "    def predict(self, X_test):\n",
    "        # what happens in neuron\n",
    "        weighted_sum = self.w1 * X_test['age'] + self.w2 * X_test['affordibility'] + self.b\n",
    "        return sigmoid_np(weighted_sum)\n",
    "\n",
    "    def gradient_descent(self, age, affordability, y_true, epochs, loss_threshold):\n",
    "        w1 = w2 = 1\n",
    "        b = 0\n",
    "        lr = 0.01\n",
    "        n = len(age)\n",
    "\n",
    "        for i in range(epochs):\n",
    "            weighted_sum = w1 * age + w2 * affordability + b\n",
    "            y_pred = sigmoid_np(weighted_sum)\n",
    "            loss = log_loss(y_true, y_pred)\n",
    "\n",
    "            w1_d = (1/n) * np.dot(np.transpose(age), (y_pred - y_true))\n",
    "            w2_d = (1/n) * np.dot(np.transpose(affordability), (y_pred - y_true))\n",
    "            b_d = np.mean(y_pred - y_true)\n",
    "\n",
    "            w1 = w1 - lr * w1_d\n",
    "            w2 = w2 - lr * w2_d\n",
    "            b = b - lr * b_d\n",
    "\n",
    "            # print(f'Epoch:{i}, w1:{w1}, w2:{w2}, bias:{b}, loss:{loss}')\n",
    "\n",
    "            if i % 50 == 0:\n",
    "                print(f'Epoch:{i}, w1:{w1}, w2:{w2}, bias:{b}, loss:{loss}')\n",
    "\n",
    "            if loss <= loss_threshold:\n",
    "                print(f'Epoch:{i}, w1:{w1}, w2:{w2}, bias:{b}, loss:{loss}')\n",
    "                break\n",
    "\n",
    "        return w1, w2, b"
   ]
  },
  {
   "cell_type": "code",
   "execution_count": 51,
   "metadata": {},
   "outputs": [
    {
     "name": "stdout",
     "output_type": "stream",
     "text": [
      "Epoch:0, w1:1.0000342047936848, w2:1.0000056247592688, bias:-0.0010340542118402044, loss:0.66506068406848\n",
      "Epoch:50, w1:1.0029602161260789, w2:1.0003083130281216, bias:-0.04976747663322406, loss:0.660270883463552\n",
      "Epoch:100, w1:1.0080672535427302, w2:1.0006495079383175, bias:-0.09316733068892627, loss:0.656434150135531\n",
      "Epoch:150, w1:1.0150773828991404, w2:1.0010243447833804, bias:-0.1319020067446872, loss:0.6533217372427174\n",
      "Epoch:200, w1:1.023742785562353, w2:1.001428489425871, bias:-0.166566391577687, loss:0.650758074813753\n",
      "Epoch:250, w1:1.0338440762580552, w2:1.0018581075225215, bias:-0.19768632675002537, loss:0.6486092391781756\n",
      "Epoch:300, w1:1.0451881015440783, w2:1.0023098250321438, bias:-0.2257242013366307, loss:0.6467735590470934\n",
      "Epoch:350, w1:1.0576055149145378, w2:1.0027806851012422, bias:-0.2510849931091631, loss:0.6451741300846806\n",
      "Epoch:400, w1:1.0709483203404024, w2:1.0032681046123857, bias:-0.2741223188834162, loss:0.6437529450899193\n",
      "Epoch:450, w1:1.0850875019367552, w2:1.003769832397838, bias:-0.2951442286314849, loss:0.6424663450098803\n"
     ]
    }
   ],
   "source": [
    "custom_model = myNN()\n",
    "custom_model.fit(X_train_scaled, y_train, epochs=500, loss_threshold=0.4631)"
   ]
  },
  {
   "cell_type": "code",
   "execution_count": 52,
   "metadata": {},
   "outputs": [
    {
     "data": {
      "text/plain": [
       "10    0.473506\n",
       "26    0.487229\n",
       "16    0.490215\n",
       "25    0.571943\n",
       "1     0.490215\n",
       "7     0.585578\n",
       "dtype: float64"
      ]
     },
     "execution_count": 52,
     "metadata": {},
     "output_type": "execute_result"
    }
   ],
   "source": [
    "custom_model.predict(X_test_scaled)"
   ]
  }
 ],
 "metadata": {
  "kernelspec": {
   "display_name": "dl_env",
   "language": "python",
   "name": "python3"
  },
  "language_info": {
   "codemirror_mode": {
    "name": "ipython",
    "version": 3
   },
   "file_extension": ".py",
   "mimetype": "text/x-python",
   "name": "python",
   "nbconvert_exporter": "python",
   "pygments_lexer": "ipython3",
   "version": "3.10.10"
  }
 },
 "nbformat": 4,
 "nbformat_minor": 2
}
