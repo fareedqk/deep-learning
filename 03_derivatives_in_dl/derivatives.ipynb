{
 "cells": [
  {
   "cell_type": "markdown",
   "metadata": {},
   "source": [
    "# Derivatives in Deep Learning"
   ]
  },
  {
   "cell_type": "markdown",
   "metadata": {},
   "source": [
    "**What is derivative and partial derivatives and how it plays an important role in deep learning**"
   ]
  },
  {
   "cell_type": "markdown",
   "metadata": {},
   "source": [
    "In the context of deep learning, derivatives and partial derivatives play a crucial role in optimizing models through techniques such as gradient descent. These mathematical concepts help the model to adjust its parameters to minimize the loss function, leading to improved performance.\n",
    "\n",
    "A derivative is a measure of how a function's output changes as its input changes, whereas a partial derivative is the derivative of a function with respect to one of its multiple variables. In deep learning, we often deal with functions of several variables (e.g., weights and biases in neural networks), and thus partial derivatives are frequently used.\n",
    "\n",
    "The partial derivatives, also known as the gradient, provide information about how the loss function changes as we alter the parameters. By following the negative gradient direction, we take steps that decrease the loss function, ultimately converging to the optimal parameters that minimize the error."
   ]
  }
 ],
 "metadata": {
  "language_info": {
   "name": "python"
  }
 },
 "nbformat": 4,
 "nbformat_minor": 2
}
